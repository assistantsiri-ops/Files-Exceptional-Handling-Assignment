{
  "nbformat": 4,
  "nbformat_minor": 0,
  "metadata": {
    "colab": {
      "provenance": []
    },
    "kernelspec": {
      "name": "python3",
      "display_name": "Python 3"
    },
    "language_info": {
      "name": "python"
    }
  },
  "cells": [
    {
      "cell_type": "markdown",
      "source": [
        "#Files & Exceptional Handling Assignment(Theory)"
      ],
      "metadata": {
        "id": "QOubWrP-8_2E"
      }
    },
    {
      "cell_type": "markdown",
      "source": [
        "1.What is the difference between interpreted and compiled languages?\n",
        "  - interpreted languages execute code line by line, while compiled languages translate the entire code into machine code before execution."
      ],
      "metadata": {
        "id": "jmOYMi8i9N2h"
      }
    },
    {
      "cell_type": "code",
      "execution_count": 1,
      "metadata": {
        "colab": {
          "base_uri": "https://localhost:8080/",
          "height": 54
        },
        "id": "N6cgEVzX80eZ",
        "outputId": "00d6950f-ba83-4527-a536-f5f35f5ad092"
      },
      "outputs": [
        {
          "output_type": "execute_result",
          "data": {
            "text/plain": [
              "'\\ninterpreted languages execute code line by line, while compiled languages translate the entire code into machine code before execution. \\n'"
            ],
            "application/vnd.google.colaboratory.intrinsic+json": {
              "type": "string"
            }
          },
          "metadata": {},
          "execution_count": 1
        }
      ],
      "source": [
        "#What is the difference between interpreted and compiled languages0\n",
        "\"\"\"\n",
        "interpreted languages execute code line by line, while compiled languages translate the entire code into machine code before execution.\n",
        "\"\"\""
      ]
    },
    {
      "cell_type": "markdown",
      "source": [
        "2.What is exception handling in Python?\n",
        "  - Exception handling in Python is a mechanism to manage errors that occur during the execution of a program. When an error, or exception, occurs, it can disrupt the normal flow of the program. Exception handling allows the program to gracefully handle these errors, preventing it from crashing and potentially allowing it to continue running."
      ],
      "metadata": {
        "id": "8nrifLLz9buR"
      }
    },
    {
      "cell_type": "code",
      "source": [
        "#What is exception handling in Python?\n",
        "\"\"\"\n",
        "Exception handling in Python is a mechanism to manage errors that occur during the execution of a program. When an error, or exception, occurs, it can disrupt the normal flow of the program. Exception handling allows the program to gracefully handle these errors, preventing it from crashing and potentially allowing it to continue running.\n",
        "\"\"\""
      ],
      "metadata": {
        "colab": {
          "base_uri": "https://localhost:8080/",
          "height": 72
        },
        "id": "bA4Zn3ig9a3A",
        "outputId": "91c4f131-b1d7-4e7a-eb5b-75637b86bdd3"
      },
      "execution_count": 2,
      "outputs": [
        {
          "output_type": "execute_result",
          "data": {
            "text/plain": [
              "'\\nException handling in Python is a mechanism to manage errors that occur during the execution of a program. When an error, or exception, occurs, it can disrupt the normal flow of the program. Exception handling allows the program to gracefully handle these errors, preventing it from crashing and potentially allowing it to continue running.\\n'"
            ],
            "application/vnd.google.colaboratory.intrinsic+json": {
              "type": "string"
            }
          },
          "metadata": {},
          "execution_count": 2
        }
      ]
    },
    {
      "cell_type": "markdown",
      "source": [
        "3.What is the purpose of the finally block in exception handling?\n",
        "  - The finally block in exception handling executes code that needs to run regardless of whether an exception occurs. This is useful for closing resources, such as files or database connections, and preventing resource leaks."
      ],
      "metadata": {
        "id": "Sa8exQgX9uoZ"
      }
    },
    {
      "cell_type": "code",
      "source": [
        "#What is the purpose of the finally block in exception handling0\n",
        "'''\n",
        "The finally block in exception handling executes code that needs to run regardless of whether an exception occurs. This is useful for closing resources, such as files or database connections, and preventing resource leaks.\n",
        "'''"
      ],
      "metadata": {
        "colab": {
          "base_uri": "https://localhost:8080/",
          "height": 54
        },
        "id": "ksLrH9Hx94WV",
        "outputId": "15557f18-a5cd-47b4-a725-7397b0df7997"
      },
      "execution_count": 3,
      "outputs": [
        {
          "output_type": "execute_result",
          "data": {
            "text/plain": [
              "'\\nThe finally block in exception handling executes code that needs to run regardless of whether an exception occurs. This is useful for closing resources, such as files or database connections, and preventing resource leaks.\\n'"
            ],
            "application/vnd.google.colaboratory.intrinsic+json": {
              "type": "string"
            }
          },
          "metadata": {},
          "execution_count": 3
        }
      ]
    },
    {
      "cell_type": "markdown",
      "source": [
        "4.What is logging in Python?\n",
        "  - Logging in Python is a built-in module that provides a flexible framework for emitting log messages from Python programs. It allows developers to track events that occur during program execution, record information about errors, warnings, and other events, and monitor the health of applications. Logging is essential for debugging, troubleshooting, and understanding the behavior of software, especially in complex systems."
      ],
      "metadata": {
        "id": "sdd1BTjw-CMI"
      }
    },
    {
      "cell_type": "code",
      "source": [
        "#What is logging in Python?\n",
        "'''\n",
        "Logging in Python is a built-in module that provides a flexible framework for emitting log messages from Python programs. It allows developers to track events that occur during program execution, record information about errors, warnings, and other events, and monitor the health of applications. Logging is essential for debugging, troubleshooting, and understanding the behavior of software, especially in complex systems.\n",
        "'''"
      ],
      "metadata": {
        "colab": {
          "base_uri": "https://localhost:8080/",
          "height": 90
        },
        "id": "z4R9AmOc-BoW",
        "outputId": "a76df25e-457e-450c-81c0-9160d5d80748"
      },
      "execution_count": 4,
      "outputs": [
        {
          "output_type": "execute_result",
          "data": {
            "text/plain": [
              "'\\nLogging in Python is a built-in module that provides a flexible framework for emitting log messages from Python programs. It allows developers to track events that occur during program execution, record information about errors, warnings, and other events, and monitor the health of applications. Logging is essential for debugging, troubleshooting, and understanding the behavior of software, especially in complex systems.\\n'"
            ],
            "application/vnd.google.colaboratory.intrinsic+json": {
              "type": "string"
            }
          },
          "metadata": {},
          "execution_count": 4
        }
      ]
    },
    {
      "cell_type": "markdown",
      "source": [
        "5.What is the significance of the __del__ method in Python?\n",
        "  - The __del__ method, also known as a destructor, in Python is called when an object is about to be destroyed. It provides an opportunity to perform cleanup actions, such as releasing external resources or finalizing operations, before the object's memory is reclaimed."
      ],
      "metadata": {
        "id": "xZXA7yDd-O-3"
      }
    },
    {
      "cell_type": "code",
      "source": [
        "#What is the significance of the __del__ method in Python?\n",
        "'''\n",
        "The __del__ method, also known as a destructor, in Python is called when an object is about to be destroyed. It provides an opportunity to perform cleanup actions, such as releasing external resources or finalizing operations, before the object's memory is reclaimed.\n",
        "'''"
      ],
      "metadata": {
        "colab": {
          "base_uri": "https://localhost:8080/",
          "height": 72
        },
        "id": "hPb2sNmG-OZ8",
        "outputId": "11acf3e9-f870-4464-f6d5-4e149571bf3c"
      },
      "execution_count": 5,
      "outputs": [
        {
          "output_type": "execute_result",
          "data": {
            "text/plain": [
              "\"\\nThe __del__ method, also known as a destructor, in Python is called when an object is about to be destroyed. It provides an opportunity to perform cleanup actions, such as releasing external resources or finalizing operations, before the object's memory is reclaimed.\\n\""
            ],
            "application/vnd.google.colaboratory.intrinsic+json": {
              "type": "string"
            }
          },
          "metadata": {},
          "execution_count": 5
        }
      ]
    },
    {
      "cell_type": "markdown",
      "source": [
        "6.What is the difference between import and from ... import in Python?\n",
        "  - The import and from ... import statements in Python serve to incorporate external code into the current script, but they differ in how they manage namespaces and access to the imported elements."
      ],
      "metadata": {
        "id": "aLMraNoe-ZNm"
      }
    },
    {
      "cell_type": "code",
      "source": [
        "#What is the difference between import and from ... import in Python?\n",
        "'''\n",
        "The import and from ... import statements in Python serve to incorporate external code into the current script, but they differ in how they manage namespaces and access to the imported elements.\n",
        "'''"
      ],
      "metadata": {
        "colab": {
          "base_uri": "https://localhost:8080/",
          "height": 54
        },
        "id": "6aNTPlvB-Yq0",
        "outputId": "919ce272-1a50-482e-e7ac-946f66196e09"
      },
      "execution_count": 7,
      "outputs": [
        {
          "output_type": "execute_result",
          "data": {
            "text/plain": [
              "'\\nThe import and from ... import statements in Python serve to incorporate external code into the current script, but they differ in how they manage namespaces and access to the imported elements.\\n'"
            ],
            "application/vnd.google.colaboratory.intrinsic+json": {
              "type": "string"
            }
          },
          "metadata": {},
          "execution_count": 7
        }
      ]
    },
    {
      "cell_type": "markdown",
      "source": [
        "7.How can you handle multiple exceptions in Python?\n",
        "  - Python offers several ways to handle multiple exceptions that might occur within a try block."
      ],
      "metadata": {
        "id": "nKGBAacZ-wGF"
      }
    },
    {
      "cell_type": "code",
      "source": [
        "#How can you handle multiple exceptions in Python?\n",
        "'''\n",
        "Python offers several ways to handle multiple exceptions that might occur within a try block.\n",
        "'''"
      ],
      "metadata": {
        "colab": {
          "base_uri": "https://localhost:8080/",
          "height": 36
        },
        "id": "_m2BSHEF-sgq",
        "outputId": "8607102d-bde9-450c-ad6a-ab28f1c852da"
      },
      "execution_count": 8,
      "outputs": [
        {
          "output_type": "execute_result",
          "data": {
            "text/plain": [
              "'\\nPython offers several ways to handle multiple exceptions that might occur within a try block.\\n'"
            ],
            "application/vnd.google.colaboratory.intrinsic+json": {
              "type": "string"
            }
          },
          "metadata": {},
          "execution_count": 8
        }
      ]
    },
    {
      "cell_type": "markdown",
      "source": [
        "8.What is the purpose of the with statement when handling files in Python?\n",
        "  - The with statement in Python provides a way to handle file operations, ensuring that files are properly closed after their use, even if errors occur. It simplifies code and makes it more robust by automatically managing the setup and teardown processes associated with resources like files."
      ],
      "metadata": {
        "id": "mZEE4Zfb-9YN"
      }
    },
    {
      "cell_type": "code",
      "source": [
        "#What is the purpose of the with statement when handling files in Python?\n",
        "'''\n",
        "The with statement in Python provides a way to handle file operations, ensuring that files are properly closed after their use, even if errors occur. It simplifies code and makes it more robust by automatically managing the setup and teardown processes associated with resources like files.\n",
        "'''"
      ],
      "metadata": {
        "colab": {
          "base_uri": "https://localhost:8080/",
          "height": 72
        },
        "id": "tBNupW18-8yy",
        "outputId": "9be8f3ae-6f3b-4608-8b5c-af50be79df2b"
      },
      "execution_count": 9,
      "outputs": [
        {
          "output_type": "execute_result",
          "data": {
            "text/plain": [
              "'\\nThe with statement in Python provides a way to handle file operations, ensuring that files are properly closed after their use, even if errors occur. It simplifies code and makes it more robust by automatically managing the setup and teardown processes associated with resources like files.\\n'"
            ],
            "application/vnd.google.colaboratory.intrinsic+json": {
              "type": "string"
            }
          },
          "metadata": {},
          "execution_count": 9
        }
      ]
    },
    {
      "cell_type": "markdown",
      "source": [
        "9.What is the difference between multithreading and multiprocessing?\n",
        "  - Multithreading and multiprocessing are techniques to achieve concurrency, but they differ in how they handle resources and execution. Multithreading uses multiple threads within a single process, sharing memory and resources, while multiprocessing uses multiple processes, each with its own memory space."
      ],
      "metadata": {
        "id": "874H-IEr_Jyb"
      }
    },
    {
      "cell_type": "code",
      "source": [
        "#What is the difference between multithreading and multiprocessing?\n",
        "'''\n",
        "Multithreading and multiprocessing are techniques to achieve concurrency, but they differ in how they handle resources and execution. Multithreading uses multiple threads within a single process, sharing memory and resources, while multiprocessing uses multiple processes, each with its own memory space.\n",
        "'''"
      ],
      "metadata": {
        "colab": {
          "base_uri": "https://localhost:8080/",
          "height": 72
        },
        "id": "xDkypREn_IiZ",
        "outputId": "bf91058c-2a4e-44bc-8de1-7ae56d0c6bea"
      },
      "execution_count": 10,
      "outputs": [
        {
          "output_type": "execute_result",
          "data": {
            "text/plain": [
              "'\\nMultithreading and multiprocessing are techniques to achieve concurrency, but they differ in how they handle resources and execution. Multithreading uses multiple threads within a single process, sharing memory and resources, while multiprocessing uses multiple processes, each with its own memory space.\\n'"
            ],
            "application/vnd.google.colaboratory.intrinsic+json": {
              "type": "string"
            }
          },
          "metadata": {},
          "execution_count": 10
        }
      ]
    },
    {
      "cell_type": "markdown",
      "source": [
        "10.What are the advantages of using logging in a program?\n",
        "   - Logging in programming offers several advantages, primarily aiding in debugging, performance analysis, and monitoring by providing a record of a program's activities, including errors, warnings, and events."
      ],
      "metadata": {
        "id": "hMRMiU_o_cLr"
      }
    },
    {
      "cell_type": "code",
      "source": [
        "#What are the advantages of using logging in a program?\n",
        "'''\n",
        "Logging in programming offers several advantages, primarily aiding in debugging, performance analysis, and monitoring by providing a record of a program's activities, including errors, warnings, and events.\n",
        "'''"
      ],
      "metadata": {
        "colab": {
          "base_uri": "https://localhost:8080/",
          "height": 54
        },
        "id": "shq11x9h_a-Q",
        "outputId": "1cef7638-9603-4cb0-8c37-14e164a0c9fd"
      },
      "execution_count": 11,
      "outputs": [
        {
          "output_type": "execute_result",
          "data": {
            "text/plain": [
              "\"\\nLogging in programming offers several advantages, primarily aiding in debugging, performance analysis, and monitoring by providing a record of a program's activities, including errors, warnings, and events. \\n\""
            ],
            "application/vnd.google.colaboratory.intrinsic+json": {
              "type": "string"
            }
          },
          "metadata": {},
          "execution_count": 11
        }
      ]
    },
    {
      "cell_type": "markdown",
      "source": [
        "11.What is memory management in Python?\n",
        "   - Memory management in Python involves a private heap containing all Python objects and data structures. The management of this private heap is ensured internally by the Python memory manager."
      ],
      "metadata": {
        "id": "8G004HMd_5tx"
      }
    },
    {
      "cell_type": "code",
      "source": [
        "#What is memory management in Python?\n",
        "'''\n",
        "Memory management in Python involves a private heap containing all Python objects and data structures. The management of this private heap is ensured internally by the Python memory manager.\n",
        "'''"
      ],
      "metadata": {
        "colab": {
          "base_uri": "https://localhost:8080/",
          "height": 54
        },
        "id": "aRZF32fp_5QX",
        "outputId": "2a666fef-913a-45a6-e96a-ee9f3aa76904"
      },
      "execution_count": 12,
      "outputs": [
        {
          "output_type": "execute_result",
          "data": {
            "text/plain": [
              "'\\nMemory management in Python involves a private heap containing all Python objects and data structures. The management of this private heap is ensured internally by the Python memory manager.\\n'"
            ],
            "application/vnd.google.colaboratory.intrinsic+json": {
              "type": "string"
            }
          },
          "metadata": {},
          "execution_count": 12
        }
      ]
    },
    {
      "cell_type": "markdown",
      "source": [
        "12.What are the basic steps involved in exception handling in Python?\n",
        "  - Identify potential exceptions, Implement the try block,Incorporate except blocks, Handle the exception, Use the else block (optional), Employ the finally block (optional), Raise exceptions (optional)."
      ],
      "metadata": {
        "id": "xXNBzPGHAHFl"
      }
    },
    {
      "cell_type": "code",
      "source": [
        "#What are the basic steps involved in exception handling in Python?\n",
        "'''\n",
        "Identify potential exceptions, Implement the try block,Incorporate except blocks, Handle the exception, Use the else block (optional), Employ the finally block (optional), Raise exceptions (optional).\n",
        "'''"
      ],
      "metadata": {
        "colab": {
          "base_uri": "https://localhost:8080/",
          "height": 54
        },
        "id": "Um6m5qz7AGWG",
        "outputId": "9796738d-5204-4cc2-ee52-98120be23b79"
      },
      "execution_count": 13,
      "outputs": [
        {
          "output_type": "execute_result",
          "data": {
            "text/plain": [
              "'\\nIdentify potential exceptions, Implement the try block,Incorporate except blocks, Handle the exception, Use the else block (optional), Employ the finally block (optional), Raise exceptions (optional).\\n'"
            ],
            "application/vnd.google.colaboratory.intrinsic+json": {
              "type": "string"
            }
          },
          "metadata": {},
          "execution_count": 13
        }
      ]
    },
    {
      "cell_type": "markdown",
      "source": [
        "13.Why is memory management important in Python?\n",
        " - Memory management is crucial in Python, and other programming languages, because it ensures efficient resource utilization, prevents memory leaks, and improves overall application performance and stability.\n"
      ],
      "metadata": {
        "id": "kOvNJ9UwA5F2"
      }
    },
    {
      "cell_type": "code",
      "source": [
        "#Why is memory management important in Python?\n",
        "'''\n",
        "Memory management is crucial in Python, and other programming languages, because it ensures efficient resource utilization, prevents memory leaks, and improves overall application performance and stability.\n",
        "'''"
      ],
      "metadata": {
        "colab": {
          "base_uri": "https://localhost:8080/",
          "height": 54
        },
        "id": "tjROdRxBA4Uk",
        "outputId": "25fddb88-6420-4652-91d8-adb04e51c82e"
      },
      "execution_count": 14,
      "outputs": [
        {
          "output_type": "execute_result",
          "data": {
            "text/plain": [
              "'\\nMemory management is crucial in Python, and other programming languages, because it ensures efficient resource utilization, prevents memory leaks, and improves overall application performance and stability. \\n'"
            ],
            "application/vnd.google.colaboratory.intrinsic+json": {
              "type": "string"
            }
          },
          "metadata": {},
          "execution_count": 14
        }
      ]
    },
    {
      "cell_type": "markdown",
      "source": [
        "14.What is the role of try and except in exception handling?\n",
        "  - In exception handling, the try block contains code that might raise an error, and the except block handles those errors (exceptions) gracefully, preventing the program from crashing and allowing it to continue execution."
      ],
      "metadata": {
        "id": "Px-_Gj0TBMn9"
      }
    },
    {
      "cell_type": "code",
      "source": [
        "#What is the role of try and except in exception handling?\n",
        "'''\n",
        "In exception handling, the try block contains code that might raise an error, and the except block handles those errors (exceptions) gracefully, preventing the program from crashing and allowing it to continue execution.\n",
        "'''"
      ],
      "metadata": {
        "colab": {
          "base_uri": "https://localhost:8080/",
          "height": 54
        },
        "id": "Rne_veXDBMMy",
        "outputId": "442593d7-768e-4ad9-9a27-e74dcbccb75d"
      },
      "execution_count": 15,
      "outputs": [
        {
          "output_type": "execute_result",
          "data": {
            "text/plain": [
              "'\\nIn exception handling, the try block contains code that might raise an error, and the except block handles those errors (exceptions) gracefully, preventing the program from crashing and allowing it to continue execution.\\n'"
            ],
            "application/vnd.google.colaboratory.intrinsic+json": {
              "type": "string"
            }
          },
          "metadata": {},
          "execution_count": 15
        }
      ]
    },
    {
      "cell_type": "markdown",
      "source": [
        "15.How does Python's garbage collection system work?\n",
        "   - Python's garbage collection system automatically manages memory by reclaiming memory occupied by objects that are no longer referenced, primarily using reference counting and a cyclic garbage collector to handle circular references."
      ],
      "metadata": {
        "id": "cZW23PO5BfdU"
      }
    },
    {
      "cell_type": "code",
      "source": [
        "#How does Python's garbage collection system work?\n",
        "'''\n",
        "Python's garbage collection system automatically manages memory by reclaiming memory occupied by objects that are no longer referenced, primarily using reference counting and a cyclic garbage collector to handle circular references.\n",
        "'''"
      ],
      "metadata": {
        "colab": {
          "base_uri": "https://localhost:8080/",
          "height": 54
        },
        "id": "UCaKdraIBdVh",
        "outputId": "0ffd60b2-4606-4033-f5f9-9cf6e786d3e5"
      },
      "execution_count": 16,
      "outputs": [
        {
          "output_type": "execute_result",
          "data": {
            "text/plain": [
              "\"\\nPython's garbage collection system automatically manages memory by reclaiming memory occupied by objects that are no longer referenced, primarily using reference counting and a cyclic garbage collector to handle circular references.\\n\""
            ],
            "application/vnd.google.colaboratory.intrinsic+json": {
              "type": "string"
            }
          },
          "metadata": {},
          "execution_count": 16
        }
      ]
    },
    {
      "cell_type": "markdown",
      "source": [
        "16.What is the purpose of the else block in exception handling?\n",
        "  - In exception handling, the else block is executed only if no exceptions are raised within the preceding try block. It's used to execute code that should run only when the try block's operations succeed, providing a way to enhance program flow based on the absence of errors."
      ],
      "metadata": {
        "id": "XBtEbqTmBwSM"
      }
    },
    {
      "cell_type": "code",
      "source": [
        "#What is the purpose of the else block in exception handling?\n",
        "'''\n",
        "In exception handling, the else block is executed only if no exceptions are raised within the preceding try block. It's used to execute code that should run only when the try block's operations succeed, providing a way to enhance program flow based on the absence of errors.\n",
        "'''"
      ],
      "metadata": {
        "colab": {
          "base_uri": "https://localhost:8080/",
          "height": 72
        },
        "id": "iCc6sjtXBujI",
        "outputId": "1bac87b4-ba75-48fd-f8df-4cd43763715d"
      },
      "execution_count": 17,
      "outputs": [
        {
          "output_type": "execute_result",
          "data": {
            "text/plain": [
              "\"\\nIn exception handling, the else block is executed only if no exceptions are raised within the preceding try block. It's used to execute code that should run only when the try block's operations succeed, providing a way to enhance program flow based on the absence of errors. \\n\""
            ],
            "application/vnd.google.colaboratory.intrinsic+json": {
              "type": "string"
            }
          },
          "metadata": {},
          "execution_count": 17
        }
      ]
    },
    {
      "cell_type": "markdown",
      "source": [
        "17.What are the common logging levels in Python?\n",
        "   - DEBUG (10), INFO (20), WARNING (30), ERROR (40), CRITICAL (50).\n",
        "  "
      ],
      "metadata": {
        "id": "tbbHXlo3B97T"
      }
    },
    {
      "cell_type": "code",
      "source": [
        "#What are the common logging levels in Python?\n",
        "'''\n",
        "DEBUG (10), INFO (20), WARNING (30), ERROR (40), CRITICAL (50).\n",
        "'''"
      ],
      "metadata": {
        "colab": {
          "base_uri": "https://localhost:8080/",
          "height": 36
        },
        "id": "_kI5pQUECT_u",
        "outputId": "4da2bb33-a084-492f-add5-13bd1e09b11b"
      },
      "execution_count": 18,
      "outputs": [
        {
          "output_type": "execute_result",
          "data": {
            "text/plain": [
              "'\\nDEBUG (10), INFO (20), WARNING (30), ERROR (40), CRITICAL (50).\\n'"
            ],
            "application/vnd.google.colaboratory.intrinsic+json": {
              "type": "string"
            }
          },
          "metadata": {},
          "execution_count": 18
        }
      ]
    },
    {
      "cell_type": "markdown",
      "source": [
        "18.What is the difference between os.fork() and multiprocessing in Python?\n",
        "  - os.fork():\n",
        "It is a low-level system call that creates an exact copy of the current process, including memory space, file descriptors, and program counter.\n",
        "multiprocessing module:\n",
        "It provides a high-level interface for creating and managing processes, offering more control and flexibility compared to os.fork().\n",
        "It supports different start methods for creating processes, including \"fork\" (copy-on-write), \"spawn\" (starting a new Python interpreter), and \"forkserver\" (starting a server process to handle new process creation).\n",
        "It offers features like inter-process communication (IPC) mechanisms (e.g., queues, pipes, shared memory), process pools, and process management tools.\n",
        "It is cross-platform and works on Windows, macOS, and Linux.\n",
        "It is generally safer and easier to use than os.fork(), especially in complex applications."
      ],
      "metadata": {
        "id": "BFATREtLCcvJ"
      }
    },
    {
      "cell_type": "code",
      "source": [
        "#What is the difference between os.fork() and multiprocessing in Python?\n",
        "'''\n",
        "os.fork():\n",
        "It is a low-level system call that creates an exact copy of the current process, including memory space, file descriptors, and program counter.\n",
        "multiprocessing module:\n",
        "It provides a high-level interface for creating and managing processes, offering more control and flexibility compared to os.fork().\n",
        "It supports different start methods for creating processes, including \"fork\" (copy-on-write), \"spawn\" (starting a new Python interpreter), and \"forkserver\" (starting a server process to handle new process creation).\n",
        "It offers features like inter-process communication (IPC) mechanisms (e.g., queues, pipes, shared memory), process pools, and process management tools.\n",
        "It is cross-platform and works on Windows, macOS, and Linux.\n",
        "It is generally safer and easier to use than os.fork(), especially in complex applications.\n",
        "'''"
      ],
      "metadata": {
        "colab": {
          "base_uri": "https://localhost:8080/",
          "height": 163
        },
        "id": "MvxzozjcCcN_",
        "outputId": "29a823a7-d1aa-41cb-d6b2-4ad90085e158"
      },
      "execution_count": 24,
      "outputs": [
        {
          "output_type": "execute_result",
          "data": {
            "text/plain": [
              "'\\nos.fork():\\nIt is a low-level system call that creates an exact copy of the current process, including memory space, file descriptors, and program counter.\\nmultiprocessing module:\\nIt provides a high-level interface for creating and managing processes, offering more control and flexibility compared to os.fork().\\nIt supports different start methods for creating processes, including \"fork\" (copy-on-write), \"spawn\" (starting a new Python interpreter), and \"forkserver\" (starting a server process to handle new process creation).\\nIt offers features like inter-process communication (IPC) mechanisms (e.g., queues, pipes, shared memory), process pools, and process management tools.\\nIt is cross-platform and works on Windows, macOS, and Linux.\\nIt is generally safer and easier to use than os.fork(), especially in complex applications.\\n'"
            ],
            "application/vnd.google.colaboratory.intrinsic+json": {
              "type": "string"
            }
          },
          "metadata": {},
          "execution_count": 24
        }
      ]
    },
    {
      "cell_type": "markdown",
      "source": [
        "19.What is the importance of closing a file in Python?\n",
        "   - Closing a file is a crucial part of file management in programming, as it ensures the release of system resources, data integrity, and prevents data corruption. It is essential to close files after using them to maintain the stability and reliability of any application that involves file handling."
      ],
      "metadata": {
        "id": "Cr_q5-ykC4Eo"
      }
    },
    {
      "cell_type": "code",
      "source": [
        "#What is the importance of closing a file in Python?\n",
        "'''\n",
        "Closing a file is a crucial part of file management in programming, as it ensures the release of system resources, data integrity, and prevents data corruption. It is essential to close files after using them to maintain the stability and reliability of any application that involves file handling.\n",
        "'''"
      ],
      "metadata": {
        "colab": {
          "base_uri": "https://localhost:8080/",
          "height": 72
        },
        "id": "30RulQh5Cz9V",
        "outputId": "7b6d371f-26ca-42e6-e9be-9abe9e85ded6"
      },
      "execution_count": 20,
      "outputs": [
        {
          "output_type": "execute_result",
          "data": {
            "text/plain": [
              "'\\nClosing a file is a crucial part of file management in programming, as it ensures the release of system resources, data integrity, and prevents data corruption. It is essential to close files after using them to maintain the stability and reliability of any application that involves file handling.\\n'"
            ],
            "application/vnd.google.colaboratory.intrinsic+json": {
              "type": "string"
            }
          },
          "metadata": {},
          "execution_count": 20
        }
      ]
    },
    {
      "cell_type": "markdown",
      "source": [
        "20.What is the difference between file.read() and file.readline() in Python?\n",
        "  - file.read(): This method reads the entire file's content as a single string. If a size argument is provided (e.g., file.read(10)), it reads up to that many bytes from the file. If the size argument is not provided, it reads the entire file. This can be memory-intensive for large files, as it loads the entire content into memory at once.\n",
        "  file.readline(): This method reads a single line from the file, including the newline character (\\n) at the end, and returns it as a string. Subsequent calls to file.readline() will read the next line, and so on. If there are no more lines to read, it returns an empty string. This is more memory-efficient for large files, as it only reads one line at a time."
      ],
      "metadata": {
        "id": "7pQgWKWIDQPm"
      }
    },
    {
      "cell_type": "code",
      "source": [
        "#What is the difference between file.read() and file.readline() in Python?\n",
        "'''\n",
        "file.read(): This method reads the entire file's content as a single string. If a size argument is provided (e.g., file.read(10)), it reads up to that many bytes from the file. If the size argument is not provided, it reads the entire file. This can be memory-intensive for large files, as it loads the entire content into memory at once.\n",
        "  file.readline(): This method reads a single line from the file, including the newline character (\\n) at the end, and returns it as a string. Subsequent calls to file.readline() will read the next line, and so on. If there are no more lines to read, it returns an empty string. This is more memory-efficient for large files, as it only reads one line at a time.\n",
        "'''"
      ],
      "metadata": {
        "colab": {
          "base_uri": "https://localhost:8080/",
          "height": 126
        },
        "id": "MKVvD9AQDda6",
        "outputId": "ae09713f-a03f-41be-81a5-949328c21671"
      },
      "execution_count": 21,
      "outputs": [
        {
          "output_type": "execute_result",
          "data": {
            "text/plain": [
              "\"\\nfile.read(): This method reads the entire file's content as a single string. If a size argument is provided (e.g., file.read(10)), it reads up to that many bytes from the file. If the size argument is not provided, it reads the entire file. This can be memory-intensive for large files, as it loads the entire content into memory at once.\\n  file.readline(): This method reads a single line from the file, including the newline character (\\n) at the end, and returns it as a string. Subsequent calls to file.readline() will read the next line, and so on. If there are no more lines to read, it returns an empty string. This is more memory-efficient for large files, as it only reads one line at a time. \\n\""
            ],
            "application/vnd.google.colaboratory.intrinsic+json": {
              "type": "string"
            }
          },
          "metadata": {},
          "execution_count": 21
        }
      ]
    },
    {
      "cell_type": "markdown",
      "source": [
        "21.What is the logging module in Python used for?\n",
        "  - The Python logging module is used to track events, debug issues, and monitor the health of Python applications by capturing and storing information about program execution. It's a powerful tool for developers to understand application behavior and troubleshoot problems."
      ],
      "metadata": {
        "id": "tlEXxsVODj0X"
      }
    },
    {
      "cell_type": "code",
      "source": [
        "#What is the logging module in Python used for?\n",
        "'''\n",
        "The Python logging module is used to track events, debug issues, and monitor the health of Python applications by capturing and storing information about program execution. It's a powerful tool for developers to understand application behavior and troubleshoot problems.\n",
        "'''"
      ],
      "metadata": {
        "colab": {
          "base_uri": "https://localhost:8080/",
          "height": 72
        },
        "id": "Wh9vE1mbDjHk",
        "outputId": "c0f463e3-ae5c-45ec-88ef-c9cd105b387b"
      },
      "execution_count": 22,
      "outputs": [
        {
          "output_type": "execute_result",
          "data": {
            "text/plain": [
              "\"\\nThe Python logging module is used to track events, debug issues, and monitor the health of Python applications by capturing and storing information about program execution. It's a powerful tool for developers to understand application behavior and troubleshoot problems. \\n\""
            ],
            "application/vnd.google.colaboratory.intrinsic+json": {
              "type": "string"
            }
          },
          "metadata": {},
          "execution_count": 22
        }
      ]
    },
    {
      "cell_type": "markdown",
      "source": [
        "22.What is the os module in Python used for in file handling?\n",
        "   - Python has a built-in os module with methods for interacting with the operating system, like creating files and directories, management of files and directories, input, output, environment variables, process management, etc."
      ],
      "metadata": {
        "id": "81TZllOoDyW1"
      }
    },
    {
      "cell_type": "code",
      "source": [
        "#What is the os module in Python used for in file handling?\n",
        "'''\n",
        "Python has a built-in os module with methods for interacting with the operating system, like creating files and directories, management of files and directories, input, output, environment variables, process management, etc.\n",
        "'''"
      ],
      "metadata": {
        "colab": {
          "base_uri": "https://localhost:8080/",
          "height": 54
        },
        "id": "EovrWfrLDxyi",
        "outputId": "cc9b0afc-8e22-449d-b2cb-9d5d44e3d712"
      },
      "execution_count": 23,
      "outputs": [
        {
          "output_type": "execute_result",
          "data": {
            "text/plain": [
              "'\\nPython has a built-in os module with methods for interacting with the operating system, like creating files and directories, management of files and directories, input, output, environment variables, process management, etc.\\n'"
            ],
            "application/vnd.google.colaboratory.intrinsic+json": {
              "type": "string"
            }
          },
          "metadata": {},
          "execution_count": 23
        }
      ]
    },
    {
      "cell_type": "markdown",
      "source": [
        "23.What are the challenges associated with memory management in Python?\n",
        "    - Python's automatic memory management, while simplifying development, presents several challenges:\n",
        "Circular References:\n",
        "Python's garbage collector, which reclaims unused memory, struggles with circular references, where objects refer to each other, preventing their reference counts from reaching zero, leading to memory leaks.\n",
        "Memory Leaks:\n",
        "Even with garbage collection, memory leaks can occur if objects are unintentionally kept alive, consuming memory over time, especially with long-running applications or when dealing with external resources.\n",
        "Fragmentation:\n",
        "Dynamic allocation and deallocation of memory can lead to fragmented memory spaces, making it difficult to allocate contiguous blocks for new objects, potentially causing allocation failures.\n",
        "Overhead:\n",
        "Python's memory management introduces overhead due to the garbage collection process and the need to maintain reference counts, which can impact performance, especially in real-time or performance-critical applications.\n",
        "Limited Control:\n",
        "Python offers limited manual control over memory management compared to languages like C or C++, making it challenging to optimize memory usage for specific scenarios.\n",
        "Memory Bloat:\n",
        "Loading large amounts of data or using inefficient data structures can lead to memory bloat, where the program consumes excessive memory, impacting performance and potentially leading to crashes.\n",
        "Multithreading Issues:\n",
        "When multiple threads access and modify objects, race conditions and other synchronization issues can arise, potentially leading to memory corruption or inconsistent data.\n",
        "Garbage Collection Pauses:\n",
        "The garbage collection process can introduce pauses in program execution, which can be problematic for applications requiring consistent response times.\n",
        "Memory Errors:\n",
        "If the program attempts to access memory it does not have permission to access, a MemoryError exception is raised. This can happen when the program runs out of memory, or when there is a bug in the program that causes it to access memory outside of its allocated range.\n",
        "External Libraries:\n",
        "When using external libraries, especially those written in C or C++, memory management issues can arise if these libraries are not properly integrated with Python's memory management system."
      ],
      "metadata": {
        "id": "pACiEUPmEev1"
      }
    },
    {
      "cell_type": "code",
      "source": [
        "#What are the challenges associated with memory management in Python?\n",
        "'''\n",
        "Python's automatic memory management, while simplifying development, presents several challenges:\n",
        "Circular References:\n",
        "Python's garbage collector, which reclaims unused memory, struggles with circular references, where objects refer to each other, preventing their reference counts from reaching zero, leading to memory leaks.\n",
        "Memory Leaks:\n",
        "Even with garbage collection, memory leaks can occur if objects are unintentionally kept alive, consuming memory over time, especially with long-running applications or when dealing with external resources.\n",
        "Fragmentation:\n",
        "Dynamic allocation and deallocation of memory can lead to fragmented memory spaces, making it difficult to allocate contiguous blocks for new objects, potentially causing allocation failures.\n",
        "Overhead:\n",
        "Python's memory management introduces overhead due to the garbage collection process and the need to maintain reference counts, which can impact performance, especially in real-time or performance-critical applications.\n",
        "Limited Control:\n",
        "Python offers limited manual control over memory management compared to languages like C or C++, making it challenging to optimize memory usage for specific scenarios.\n",
        "Memory Bloat:\n",
        "Loading large amounts of data or using inefficient data structures can lead to memory bloat, where the program consumes excessive memory, impacting performance and potentially leading to crashes.\n",
        "Multithreading Issues:\n",
        "When multiple threads access and modify objects, race conditions and other synchronization issues can arise, potentially leading to memory corruption or inconsistent data.\n",
        "Garbage Collection Pauses:\n",
        "The garbage collection process can introduce pauses in program execution, which can be problematic for applications requiring consistent response times.\n",
        "Memory Errors:\n",
        "If the program attempts to access memory it does not have permission to access, a MemoryError exception is raised. This can happen when the program runs out of memory, or when there is a bug in the program that causes it to access memory outside of its allocated range.\n",
        "External Libraries:\n",
        "When using external libraries, especially those written in C or C++, memory management issues can arise if these libraries are not properly integrated with Python's memory management system.\n",
        "'''"
      ],
      "metadata": {
        "colab": {
          "base_uri": "https://localhost:8080/",
          "height": 181
        },
        "id": "GJFZSQ1xD-XJ",
        "outputId": "8f316480-2217-4c75-d7e7-1e0410eacd81"
      },
      "execution_count": 25,
      "outputs": [
        {
          "output_type": "execute_result",
          "data": {
            "text/plain": [
              "\"\\nPython's automatic memory management, while simplifying development, presents several challenges:\\nCircular References:\\nPython's garbage collector, which reclaims unused memory, struggles with circular references, where objects refer to each other, preventing their reference counts from reaching zero, leading to memory leaks.\\nMemory Leaks:\\nEven with garbage collection, memory leaks can occur if objects are unintentionally kept alive, consuming memory over time, especially with long-running applications or when dealing with external resources.\\nFragmentation:\\nDynamic allocation and deallocation of memory can lead to fragmented memory spaces, making it difficult to allocate contiguous blocks for new objects, potentially causing allocation failures.\\nOverhead:\\nPython's memory management introduces overhead due to the garbage collection process and the need to maintain reference counts, which can impact performance, especially in real-time or performance-critical applications.\\nLimited Control:\\nPython offers limited manual control over memory management compared to languages like C or C++, making it challenging to optimize memory usage for specific scenarios.\\nMemory Bloat:\\nLoading large amounts of data or using inefficient data structures can lead to memory bloat, where the program consumes excessive memory, impacting performance and potentially leading to crashes.\\nMultithreading Issues:\\nWhen multiple threads access and modify objects, race conditions and other synchronization issues can arise, potentially leading to memory corruption or inconsistent data.\\nGarbage Collection Pauses:\\nThe garbage collection process can introduce pauses in program execution, which can be problematic for applications requiring consistent response times.\\nMemory Errors:\\nIf the program attempts to access memory it does not have permission to access, a MemoryError exception is raised. This can happen when the program runs out of memory, or when there is a bug in the program that causes it to access memory outside of its allocated range.\\nExternal Libraries:\\nWhen using external libraries, especially those written in C or C++, memory management issues can arise if these libraries are not properly integrated with Python's memory management system.\\n\""
            ],
            "application/vnd.google.colaboratory.intrinsic+json": {
              "type": "string"
            }
          },
          "metadata": {},
          "execution_count": 25
        }
      ]
    },
    {
      "cell_type": "markdown",
      "source": [
        "24. How do you raise an exception manually in Python?\n",
        "   - In Python, the raise keyword is used to manually raise an exception. This allows for explicit error handling and control flow within a program. The basic syntax involves using raise followed by the exception class or an instance of the exception. An optional error message can be included for clarity."
      ],
      "metadata": {
        "id": "jlDxfpujE2QC"
      }
    },
    {
      "cell_type": "code",
      "source": [
        "# How do you raise an exception manually in Python?\n",
        "'''\n",
        "In Python, the raise keyword is used to manually raise an exception. This allows for explicit error handling and control flow within a program. The basic syntax involves using raise followed by the exception class or an instance of the exception. An optional error message can be included for clarity.\n",
        "'''"
      ],
      "metadata": {
        "colab": {
          "base_uri": "https://localhost:8080/",
          "height": 72
        },
        "id": "RzWwMjPCE1lG",
        "outputId": "ea4f369f-e13e-4875-ca25-714c543c60c7"
      },
      "execution_count": 26,
      "outputs": [
        {
          "output_type": "execute_result",
          "data": {
            "text/plain": [
              "'\\nIn Python, the raise keyword is used to manually raise an exception. This allows for explicit error handling and control flow within a program. The basic syntax involves using raise followed by the exception class or an instance of the exception. An optional error message can be included for clarity. \\n'"
            ],
            "application/vnd.google.colaboratory.intrinsic+json": {
              "type": "string"
            }
          },
          "metadata": {},
          "execution_count": 26
        }
      ]
    },
    {
      "cell_type": "markdown",
      "source": [
        "25.Why is it important to use multithreading in certain applications?\n",
        "   - Multithreading is crucial for certain applications as it enables concurrent execution of tasks, leading to improved performance, resource utilization, and responsiveness, especially in applications involving I/O or waiting for external events."
      ],
      "metadata": {
        "id": "JZ5w3Vk0FJ6g"
      }
    },
    {
      "cell_type": "code",
      "source": [
        "#Why is it important to use multithreading in certain applications?\n",
        "'''\n",
        "Multithreading is crucial for certain applications as it enables concurrent execution of tasks, leading to improved performance, resource utilization, and responsiveness, especially in applications involving I/O or waiting for external events.\n",
        "'''"
      ],
      "metadata": {
        "colab": {
          "base_uri": "https://localhost:8080/",
          "height": 72
        },
        "id": "UCLq3n24FR3k",
        "outputId": "b5448aff-d8a9-46de-f517-7e88f861d311"
      },
      "execution_count": 27,
      "outputs": [
        {
          "output_type": "execute_result",
          "data": {
            "text/plain": [
              "'\\nMultithreading is crucial for certain applications as it enables concurrent execution of tasks, leading to improved performance, resource utilization, and responsiveness, especially in applications involving I/O or waiting for external events. \\n'"
            ],
            "application/vnd.google.colaboratory.intrinsic+json": {
              "type": "string"
            }
          },
          "metadata": {},
          "execution_count": 27
        }
      ]
    },
    {
      "cell_type": "markdown",
      "source": [
        "#Files & Exceptional Handling Assignment(Practical)"
      ],
      "metadata": {
        "id": "QeYzemnZFWPA"
      }
    },
    {
      "cell_type": "markdown",
      "source": [
        "1. How can you open a file for writing in Python and write a string to it?"
      ],
      "metadata": {
        "id": "7mFtJoQyFe7Y"
      }
    },
    {
      "cell_type": "code",
      "source": [
        "#code\n",
        "with open(\"file.txt\", \"w\") as f:\n",
        "    f.write(\"Created using write mode.\")\n",
        "f = open(\"file.txt\",\"r\")\n",
        "print(f.read())\n",
        "with open(\"file.txt\", \"a\") as f:\n",
        "    f.write(\"Content appended to the file.\")\n",
        "f = open(\"file.txt\",\"r\")\n",
        "print(f.read())\n",
        "try:\n",
        "    with open(\"file.txt\", \"x\") as f:\n",
        "        f.write(\"Created using exclusive mode.\")\n",
        "except FileExistsError:\n",
        "    print(\"Already exists.\")"
      ],
      "metadata": {
        "colab": {
          "base_uri": "https://localhost:8080/"
        },
        "id": "RHPQT0F1FVe9",
        "outputId": "3f2fc1c0-cac2-4585-be2c-b3048dd01cc5"
      },
      "execution_count": 28,
      "outputs": [
        {
          "output_type": "stream",
          "name": "stdout",
          "text": [
            "Created using write mode.\n",
            "Created using write mode.Content appended to the file.\n",
            "Already exists.\n"
          ]
        }
      ]
    },
    {
      "cell_type": "markdown",
      "source": [
        "2.Write a Python program to read the contents of a file and print each line."
      ],
      "metadata": {
        "id": "4IFv3fILFp7X"
      }
    },
    {
      "cell_type": "code",
      "source": [
        "#code\n",
        "file = open(\"file.txt\", \"w\")\n",
        "file.write(\"This is my first line\\n\")\n",
        "file.write(\"This is my second line\\n\")\n",
        "file.write(\"This is my third line\\n\")\n",
        "file.write(\"This is my fourth line\\n\")\n",
        "file.close()\n",
        "\n",
        "f = open(\"file.txt\", 'r')\n",
        "f.seek(0)\n",
        "print(f.read())\n",
        "f.close()"
      ],
      "metadata": {
        "colab": {
          "base_uri": "https://localhost:8080/"
        },
        "id": "7Z2puwxeFpX8",
        "outputId": "24848b3a-e712-4aa8-d27b-f6f51d9f2dc4"
      },
      "execution_count": 29,
      "outputs": [
        {
          "output_type": "stream",
          "name": "stdout",
          "text": [
            "This is my first line\n",
            "This is my second line\n",
            "This is my third line\n",
            "This is my fourth line\n",
            "\n"
          ]
        }
      ]
    },
    {
      "cell_type": "markdown",
      "source": [
        "3.How would you handle a case where the file doesn't exist while trying to open it for reading?"
      ],
      "metadata": {
        "id": "poT9jYbPFy5O"
      }
    },
    {
      "cell_type": "code",
      "source": [
        "#code\n",
        "#If you want to avoid this error and check for the file's existence before trying to open it, you can use the os.path module:\n",
        "#This way, you can handle the situation more gracefully.\n",
        "import os\n",
        "file_path = 'non_existent_file.txt'\n",
        "if os.path.exists(file_path):\n",
        "    with open(file_path, 'r') as file:\n",
        "        content = file.read()\n",
        "else:\n",
        "    print(\"The file does not exist.\")"
      ],
      "metadata": {
        "colab": {
          "base_uri": "https://localhost:8080/"
        },
        "id": "2Zh6EzsSFyED",
        "outputId": "a14a18cb-b39a-409c-db2e-9a78d97c44bf"
      },
      "execution_count": 30,
      "outputs": [
        {
          "output_type": "stream",
          "name": "stdout",
          "text": [
            "The file does not exist.\n"
          ]
        }
      ]
    },
    {
      "cell_type": "markdown",
      "source": [
        "4.Write a Python script that reads from one file and writes its content to another file."
      ],
      "metadata": {
        "id": "RAOmCMCvF5Iu"
      }
    },
    {
      "cell_type": "code",
      "source": [
        "#code\n",
        "def copy_file_content(source_file, destination_file):\n",
        "    \"\"\"\n",
        "    Copies the content of the source file to the destination file.\n",
        "    Args:\n",
        "        source_file (str): The path to the source file.\n",
        "        destination_file (str): The path to the destination file.\n",
        "    \"\"\"\n",
        "    try:\n",
        "        with open(source_file, 'r') as file_in, open(destination_file, 'w') as file_out:\n",
        "            for line in file_in:\n",
        "                file_out.write(line)\n",
        "        print(f\"Content of '{source_file}' successfully copied to '{destination_file}'\")\n",
        "    except FileNotFoundError:\n",
        "        print(f\"Error: File '{source_file}' not found.\")\n",
        "    except Exception as e:\n",
        "         print(f\"An error occurred: {e}\")\n",
        "source_file_path = 'source.txt'\n",
        "destination_file_path = 'destination.txt'\n",
        "with open(source_file_path, 'w') as f:\n",
        "    f.write(\"This is the content of the source file.\\n\")\n",
        "    f.write(\"Another line of content.\\n\")\n",
        "copy_file_content(source_file_path, destination_file_path)\n",
        "with open(destination_file_path, 'r') as f:\n",
        "    print(\"Content of destination file:\")\n",
        "    print(f.read())"
      ],
      "metadata": {
        "colab": {
          "base_uri": "https://localhost:8080/"
        },
        "id": "LhZgwobLF4gz",
        "outputId": "1a44fd98-6722-4e1b-be92-33771336fbfb"
      },
      "execution_count": 31,
      "outputs": [
        {
          "output_type": "stream",
          "name": "stdout",
          "text": [
            "Content of 'source.txt' successfully copied to 'destination.txt'\n",
            "Content of destination file:\n",
            "This is the content of the source file.\n",
            "Another line of content.\n",
            "\n"
          ]
        }
      ]
    },
    {
      "cell_type": "markdown",
      "source": [
        "5.How would you catch and handle division by zero error in Python?"
      ],
      "metadata": {
        "id": "vasDj4DWGDFu"
      }
    },
    {
      "cell_type": "code",
      "source": [
        "#code\n",
        "def divideTwoNums(x, y):\n",
        " try:\n",
        "   return x / y\n",
        " except:\n",
        "   return \"You can't divide a number by zero!\"\n",
        "print(divideTwoNums(6, 2))\n",
        "print(divideTwoNums(6, 0))"
      ],
      "metadata": {
        "colab": {
          "base_uri": "https://localhost:8080/"
        },
        "id": "8V3_usjCGCST",
        "outputId": "a33b6d05-6928-4008-fd93-e88d1ba36f6d"
      },
      "execution_count": 32,
      "outputs": [
        {
          "output_type": "stream",
          "name": "stdout",
          "text": [
            "3.0\n",
            "You can't divide a number by zero!\n"
          ]
        }
      ]
    },
    {
      "cell_type": "markdown",
      "source": [
        "6.Write a Python program that logs an error message to a log file when a division by zero exception occurs."
      ],
      "metadata": {
        "id": "VdpVBq6BGKsl"
      }
    },
    {
      "cell_type": "code",
      "source": [
        "#code\n",
        "import logging\n",
        "logging.basicConfig(filename='error.log', level=logging.ERROR,\n",
        "                    format='%(asctime)s - %(levelname)s - %(message)s')\n",
        "def divide(x, y):\n",
        "    try:\n",
        "        result = x / y\n",
        "        return result\n",
        "    except ZeroDivisionError:\n",
        "        logging.error(\"Division by zero attempted\")\n",
        "        return None\n",
        "numerator = 10\n",
        "denominator = 0\n",
        "result = divide(numerator, denominator)\n",
        "if result is None:\n",
        "    print(\"An error occurred. Check error.log for details.\")\n",
        "else:\n",
        "    print(\"Result:\", result)"
      ],
      "metadata": {
        "colab": {
          "base_uri": "https://localhost:8080/"
        },
        "id": "D5aM3WUwGKMq",
        "outputId": "ac3573fb-5dbc-4a28-b50b-ea678322f3ab"
      },
      "execution_count": 33,
      "outputs": [
        {
          "output_type": "stream",
          "name": "stderr",
          "text": [
            "ERROR:root:Division by zero attempted\n"
          ]
        },
        {
          "output_type": "stream",
          "name": "stdout",
          "text": [
            "An error occurred. Check error.log for details.\n"
          ]
        }
      ]
    },
    {
      "cell_type": "markdown",
      "source": [
        "7.How do you log information at different levels (INFO, ERROR, WARNING) in Python using the logging module?"
      ],
      "metadata": {
        "id": "rmfq3dKsGTj9"
      }
    },
    {
      "cell_type": "code",
      "source": [
        "logging.basicConfig(level=logging.INFO, filename=\"py_log.log\",filemode=\"w\",\n",
        "                    format=\"%(asctime)s %(levelname)s %(message)s\")\n",
        "logging.debug(\"A DEBUG Message\")\n",
        "logging.info(\"An INFO\")\n",
        "logging.warning(\"A WARNING\")\n",
        "logging.error(\"An ERROR\") #code"
      ],
      "metadata": {
        "colab": {
          "base_uri": "https://localhost:8080/"
        },
        "id": "SUNpsDNdGQcS",
        "outputId": "5a9e08fe-ac6a-4479-962e-dceaa4f61850"
      },
      "execution_count": 35,
      "outputs": [
        {
          "output_type": "stream",
          "name": "stderr",
          "text": [
            "WARNING:root:A WARNING\n",
            "ERROR:root:An ERROR\n"
          ]
        }
      ]
    },
    {
      "cell_type": "markdown",
      "source": [
        "8.Write a program to handle a file opening error using exception handling."
      ],
      "metadata": {
        "id": "CzXLPF-eG11L"
      }
    },
    {
      "cell_type": "code",
      "source": [
        "#code\n",
        "try:\n",
        "    with open(\"my_file.txt\", \"r\") as f:\n",
        "        content = f.read()\n",
        "except FileNotFoundError:\n",
        "    print(\"The file 'my_file.txt' was not found.\")\n",
        "except IOError:\n",
        "    print(\"An error occurred while reading the file 'my_file.txt'.\")"
      ],
      "metadata": {
        "colab": {
          "base_uri": "https://localhost:8080/"
        },
        "id": "gOmd-1OSGsQI",
        "outputId": "fd9f85d8-fcbb-4bdb-cbc1-37face1c5c9c"
      },
      "execution_count": 36,
      "outputs": [
        {
          "output_type": "stream",
          "name": "stdout",
          "text": [
            "The file 'my_file.txt' was not found.\n"
          ]
        }
      ]
    },
    {
      "cell_type": "markdown",
      "source": [
        "9.How can you read a file line by line and store its content in a list in Python?"
      ],
      "metadata": {
        "id": "OfsnMqJUG-Qy"
      }
    },
    {
      "cell_type": "code",
      "source": [
        "#code\n",
        "import io\n",
        "with open('test_buf.txt', \"wb\") as f:\n",
        "    file = io.BufferedWriter(f)\n",
        "    file.write(b\"A computer is a machine that can be programmed to automatically carry out sequences of arithmetic or logical operations (computation). Modern digital electronic computers can perform generic sets of operations known as programs. These programs enable computers to perform a wide range of tasks. The term computer system may refer to a nominally complete computer that includes the hardware, operating system, software, and peripheral equipment needed and used for full operation; or to a group of computers that are linked and function together, such as a computer network or computer cluster.\")\n",
        "    file.write(b\"Hello world, how are you?\")\n",
        "    file.write(b\"I am studying ds\")\n",
        "    file.flush()\n",
        "with open('test_buf.txt', \"rb\") as f:\n",
        "    file = io.BufferedReader(f)\n",
        "    data = file.read(150)\n",
        "    print(data)"
      ],
      "metadata": {
        "colab": {
          "base_uri": "https://localhost:8080/"
        },
        "id": "zVdBhrAJG9mQ",
        "outputId": "a9570bbe-17b5-49a2-f24b-3ad569087e1f"
      },
      "execution_count": 37,
      "outputs": [
        {
          "output_type": "stream",
          "name": "stdout",
          "text": [
            "b'A computer is a machine that can be programmed to automatically carry out sequences of arithmetic or logical operations (computation). Modern digital '\n"
          ]
        }
      ]
    },
    {
      "cell_type": "markdown",
      "source": [
        "10.How can you append data to an existing file in Python?"
      ],
      "metadata": {
        "id": "ZKlPCIwKHMwR"
      }
    },
    {
      "cell_type": "code",
      "source": [
        "#code\n",
        "f=open(\"file2.txt\",'a+')\n",
        "data=[\"New Delhi, national capital of India\\n\",\"It is situated in the north-central part of the country\\n\",\" on the west bank of the Yamuna River\"]\n",
        "f.writelines(data)\n",
        "print(\"Is File Readable:  \",f.readable())\n",
        "print(\"Is File Writable:  \",f.writable())\n",
        "print(\"Lines append to the filename file2.txt successfully\")\n",
        "f.close()"
      ],
      "metadata": {
        "colab": {
          "base_uri": "https://localhost:8080/"
        },
        "id": "WWZJuTIKHK93",
        "outputId": "fb2ac35c-c29c-4d82-9227-5436e61dcf4a"
      },
      "execution_count": 39,
      "outputs": [
        {
          "output_type": "stream",
          "name": "stdout",
          "text": [
            "Is File Readable:   True\n",
            "Is File Writable:   True\n",
            "Lines append to the filename file2.txt successfully\n"
          ]
        }
      ]
    },
    {
      "cell_type": "markdown",
      "source": [
        "11.Write a Python program that uses a try-except block to handle an error when attempting to access a\n",
        "dictionary key that doesn't exist."
      ],
      "metadata": {
        "id": "xDTZA4t5HTeR"
      }
    },
    {
      "cell_type": "code",
      "source": [
        "#code (example of a book dictionary)\n",
        "books = {\n",
        "    \"1984\": \"George Orwell\",\n",
        "    \"To Kill a Mockingbird\": \"Harper Lee\",\n",
        "    \"The Great Gatsby\": \"F. Scott Fitzgerald\"\n",
        "}\n",
        "\n",
        "try:\n",
        "    # Try to access the key \"Brave New World\"\n",
        "    author = books[\"Brave New World\"]\n",
        "    # Catch the KeyError if the key does not exist\n",
        "except KeyError:\n",
        "    author = \"Book not found\"\n",
        "\n",
        "print(author)"
      ],
      "metadata": {
        "colab": {
          "base_uri": "https://localhost:8080/"
        },
        "id": "i9yV-DIkHS0H",
        "outputId": "c494680c-8a5e-49f7-bd04-1544a6aa02df"
      },
      "execution_count": 40,
      "outputs": [
        {
          "output_type": "stream",
          "name": "stdout",
          "text": [
            "Book not found\n"
          ]
        }
      ]
    },
    {
      "cell_type": "markdown",
      "source": [
        "12.Write a program that demonstrates using multiple except blocks to handle different types of exceptions."
      ],
      "metadata": {
        "id": "jcYnau1eHbbq"
      }
    },
    {
      "cell_type": "code",
      "source": [
        "#code\n",
        "def calculate_division(num1, num2):\n",
        "    try:\n",
        "        result = num1 / num2\n",
        "        print(\"Result:\", result)\n",
        "    except ZeroDivisionError:\n",
        "        print(\"Error: Cannot divide by zero.\")\n",
        "    except TypeError:\n",
        "        print(\"Error: Invalid input type. Please enter numbers only.\")\n",
        "    except Exception as e:\n",
        "         print(f\"An unexpected error occurred: {e}\")\n",
        "calculate_division(10, 2)\n",
        "calculate_division(10, 0)\n",
        "calculate_division(10, \"abc\")\n",
        "calculate_division([1,2], 2)"
      ],
      "metadata": {
        "colab": {
          "base_uri": "https://localhost:8080/"
        },
        "id": "_MYNL--vHaQG",
        "outputId": "422d788b-4478-4f70-cdc5-5a8514ba76df"
      },
      "execution_count": 41,
      "outputs": [
        {
          "output_type": "stream",
          "name": "stdout",
          "text": [
            "Result: 5.0\n",
            "Error: Cannot divide by zero.\n",
            "Error: Invalid input type. Please enter numbers only.\n",
            "Error: Invalid input type. Please enter numbers only.\n"
          ]
        }
      ]
    },
    {
      "cell_type": "markdown",
      "source": [
        "13.How would you check if a file exists before attempting to read it in Python?"
      ],
      "metadata": {
        "id": "JqsmHaTiHimB"
      }
    },
    {
      "cell_type": "code",
      "source": [
        "#code\n",
        "import os\n",
        "\n",
        "file_path = \"path/to/your/file.txt\"\n",
        "\n",
        "if os.path.exists(file_path):\n",
        "    try:\n",
        "        with open(file_path, 'r') as file:\n",
        "            content = file.read()\n",
        "            # Process the file content\n",
        "            print(content)\n",
        "    except IOError as e:\n",
        "        print(f\"An error occurred while reading the file: {e}\")\n",
        "else:\n",
        "    print(f\"The file {file_path} does not exist.\")"
      ],
      "metadata": {
        "colab": {
          "base_uri": "https://localhost:8080/"
        },
        "id": "GkucNnLfHiAG",
        "outputId": "89d1af81-ff05-4fdc-fedb-09813b2f2380"
      },
      "execution_count": 42,
      "outputs": [
        {
          "output_type": "stream",
          "name": "stdout",
          "text": [
            "The file path/to/your/file.txt does not exist.\n"
          ]
        }
      ]
    },
    {
      "cell_type": "markdown",
      "source": [
        "14.Write a program that uses the logging module to log both informational and error messages."
      ],
      "metadata": {
        "id": "QFEhxxP_HqyI"
      }
    },
    {
      "cell_type": "code",
      "source": [
        "import logging\n",
        "\n",
        "logging.basicConfig(level=logging.INFO,\n",
        "                    format='%(asctime)s - %(levelname)s - %(message)s')\n",
        "\n",
        "\n",
        "logger = logging.getLogger(__name__)\n",
        "\n",
        "def divide(x, y):\n",
        "    \"\"\"Divides two numbers and logs the operation.\"\"\"\n",
        "    logger.info(f\"Dividing {x} by {y}\")\n",
        "    try:\n",
        "        result = x / y\n",
        "        logger.info(f\"Result: {result}\")\n",
        "        return result\n",
        "    except ZeroDivisionError:\n",
        "        logger.error(f\"Cannot divide {x} by zero!\")\n",
        "        return None\n",
        "\n",
        "if __name__ == \"__main__\":\n",
        "    divide(10, 2)\n",
        "    divide(10, 0)#code"
      ],
      "metadata": {
        "colab": {
          "base_uri": "https://localhost:8080/"
        },
        "id": "9JeCqPvIH6Uc",
        "outputId": "b883be53-00e0-417d-c1c5-551c6f449072"
      },
      "execution_count": 46,
      "outputs": [
        {
          "output_type": "stream",
          "name": "stderr",
          "text": [
            "ERROR:__main__:Cannot divide 10 by zero!\n"
          ]
        }
      ]
    },
    {
      "cell_type": "markdown",
      "source": [
        "15.Write a Python program that prints the content of a file and handles the case when the file is empty."
      ],
      "metadata": {
        "id": "QgXvx_tCIIKW"
      }
    },
    {
      "cell_type": "code",
      "source": [
        "#code\n",
        "def print_file_content(file_path):\n",
        "    \"\"\"\n",
        "    Prints the content of a file.\n",
        "    If the file is empty, it prints a message indicating that the file is empty.\n",
        "    \"\"\"\n",
        "    try:\n",
        "        with open(file_path, 'r') as file:\n",
        "            content = file.read()\n",
        "            if not content:\n",
        "                print(\"The file is empty.\")\n",
        "            else:\n",
        "                print(content)\n",
        "    except FileNotFoundError:\n",
        "        print(f\"Error: File not found: {file_path}\")\n",
        "file_path = \"my_file.txt\"\n",
        "with open(file_path, 'w') as f:\n",
        "    pass\n",
        "print(\"Content of empty file:\")\n",
        "print_file_content(file_path)\n",
        "with open(file_path, 'w') as f:\n",
        "    f.write(\"Hello, world!\\nThis is a test file.\")\n",
        "print(\"\\nContent of file with data:\")\n",
        "print_file_content(file_path)\n",
        "print(\"\\nContent of non-existent file:\")\n",
        "print_file_content(\"non_existent_file.txt\")"
      ],
      "metadata": {
        "colab": {
          "base_uri": "https://localhost:8080/"
        },
        "id": "bJsRar06ICWM",
        "outputId": "bb851828-9c35-463e-d4f1-b3a36cb9783d"
      },
      "execution_count": 47,
      "outputs": [
        {
          "output_type": "stream",
          "name": "stdout",
          "text": [
            "Content of empty file:\n",
            "The file is empty.\n",
            "\n",
            "Content of file with data:\n",
            "Hello, world!\n",
            "This is a test file.\n",
            "\n",
            "Content of non-existent file:\n",
            "Error: File not found: non_existent_file.txt\n"
          ]
        }
      ]
    },
    {
      "cell_type": "markdown",
      "source": [
        "16.Demonstrate how to use memory profiling to check the memory usage of a small program."
      ],
      "metadata": {
        "id": "mwly6iKSIPj2"
      }
    },
    {
      "cell_type": "code",
      "source": [
        "   import time\n",
        "   import random\n",
        "   def create_large_list():\n",
        "       \"\"\"Creates a large list and returns it.\"\"\"\n",
        "       large_list = []\n",
        "       for i in range(1000000):\n",
        "           large_list.append(random.randint(1, 100))\n",
        "       return large_list\n",
        "   def process_list(my_list):\n",
        "       \"\"\"Processes the list (simulating some work).\"\"\"\n",
        "       time.sleep(0.1)  #code\n",
        "       total = sum(my_list)\n",
        "       return total\n",
        "   if __name__ == \"__main__\":\n",
        "       large_list = create_large_list()\n",
        "       result = process_list(large_list)\n",
        "       print(f\"The sum is: {result}\")"
      ],
      "metadata": {
        "colab": {
          "base_uri": "https://localhost:8080/"
        },
        "id": "i9rsDZQdIO0T",
        "outputId": "fe566c27-ede6-479f-a554-c8c0e86a9c56"
      },
      "execution_count": 48,
      "outputs": [
        {
          "output_type": "stream",
          "name": "stdout",
          "text": [
            "The sum is: 50505487\n"
          ]
        }
      ]
    },
    {
      "cell_type": "markdown",
      "source": [
        "17.Write a Python program to create and write a list of numbers to a file, one number per line."
      ],
      "metadata": {
        "id": "8vV4hdM2IWMO"
      }
    },
    {
      "cell_type": "code",
      "source": [
        "def read_numbers_from_file(file_path):\n",
        "    numbers = []\n",
        "    try:\n",
        "        with open(file_path, 'r') as file:\n",
        "            for line in file:\n",
        "                try:\n",
        "                    number = int(line.strip())  #code\n",
        "                    numbers.append(number)\n",
        "                except ValueError:\n",
        "                    print(f\"Invalid number format: {line.strip()}\")\n",
        "    except FileNotFoundError:\n",
        "        print(f\"Error: File not found: {file_path}\")\n",
        "    return numbers\n",
        "file_path = 'numbers.txt'\n",
        "numbers_list = read_numbers_from_file(file_path)\n",
        "if numbers_list:\n",
        "    print(\"Numbers read from the file:\")\n",
        "    print(numbers_list)"
      ],
      "metadata": {
        "colab": {
          "base_uri": "https://localhost:8080/"
        },
        "id": "2luCkM2OImbi",
        "outputId": "4e73c4d3-b0b5-439a-a9d8-7228797c7437"
      },
      "execution_count": 54,
      "outputs": [
        {
          "output_type": "stream",
          "name": "stdout",
          "text": [
            "Numbers read from the file:\n",
            "[1, 2, 3, 4, 5]\n"
          ]
        }
      ]
    },
    {
      "cell_type": "markdown",
      "source": [
        "18.How would you implement a basic logging setup that logs to a file with rotation after 1MB?"
      ],
      "metadata": {
        "id": "MQniUHytIrEd"
      }
    },
    {
      "cell_type": "code",
      "source": [
        "import logging\n",
        "from logging.handlers import RotatingFileHandler\n",
        "log_file = \"app.log\"\n",
        "log_level = logging.DEBUG\n",
        "log_format = \"%(asctime)s - %(levelname)s - %(message)s\"\n",
        "max_file_size = 1024 * 1024\n",
        "backup_count = 5\n",
        "logging.basicConfig(level=log_level, format=log_format)\n",
        "handler = RotatingFileHandler(log_file, maxBytes=max_file_size, backupCount=backup_count)\n",
        "formatter = logging.Formatter(log_format)\n",
        "handler.setFormatter(formatter)\n",
        "logging.getLogger('').addHandler(handler)\n",
        "logging.debug(\"This is a debug message.\")\n",
        "logging.info(\"This is an info message.\")\n",
        "logging.warning(\"This is a warning message.\")\n",
        "logging.error(\"This is an error message.\")\n",
        "logging.critical(\"This is a critical message.\")#code"
      ],
      "metadata": {
        "colab": {
          "base_uri": "https://localhost:8080/"
        },
        "id": "VhqU8SY0IpJq",
        "outputId": "53dd98dd-57af-4fe7-df03-2debb34d9420"
      },
      "execution_count": 55,
      "outputs": [
        {
          "output_type": "stream",
          "name": "stderr",
          "text": [
            "WARNING:root:This is a warning message.\n",
            "ERROR:root:This is an error message.\n",
            "CRITICAL:root:This is a critical message.\n"
          ]
        }
      ]
    },
    {
      "cell_type": "markdown",
      "source": [
        "19.Write a program that handles both IndexError and KeyError using a try-except block."
      ],
      "metadata": {
        "id": "43CYGebOI0NF"
      }
    },
    {
      "cell_type": "code",
      "source": [
        "#code\n",
        "data = {'a': 1, 'b': 2, 'c': 3}\n",
        "my_list = [10, 20, 30]\n",
        "try:\n",
        "    item = my_list[5]\n",
        "    result = 10 / 0\n",
        "except (KeyError, IndexError, ZeroDivisionError) as e:\n",
        "    print(f\"An error occurred: {e}\")\n",
        "else:\n",
        "    print(\"No errors occurred\")\n",
        "finally:\n",
        "    print(\"This will always execute\")"
      ],
      "metadata": {
        "colab": {
          "base_uri": "https://localhost:8080/"
        },
        "id": "sdllchJmIzNh",
        "outputId": "cef4d33f-769a-45ea-fdc8-af1d094a1e8c"
      },
      "execution_count": 56,
      "outputs": [
        {
          "output_type": "stream",
          "name": "stdout",
          "text": [
            "An error occurred: list index out of range\n",
            "This will always execute\n"
          ]
        }
      ]
    },
    {
      "cell_type": "markdown",
      "source": [
        "20.How would you open a file and read its contents using a context manager in Python?"
      ],
      "metadata": {
        "id": "vOF_gPuqI74E"
      }
    },
    {
      "cell_type": "code",
      "source": [
        "def read_file_with_context_manager(filename):\n",
        "    try:\n",
        "        with open(filename, 'r') as file:\n",
        "            content = file.read()\n",
        "        return content\n",
        "    except FileNotFoundError:\n",
        "        return f\"Error: File '{filename}' not found.\"\n",
        "    except Exception as e:\n",
        "        return f\"An error occurred: {e}\"\n",
        "\n",
        "\n",
        "filename = \"my_file.txt\"\n",
        "\n",
        "\n",
        "with open(filename, 'w') as f:\n",
        "    f.write(\"This is a test file.\\nIt has multiple lines.\")\n",
        "\n",
        "content = read_file_with_context_manager(filename)\n",
        "print(content)\n",
        "\n",
        "\n",
        "import os\n",
        "os.remove(filename)#code"
      ],
      "metadata": {
        "colab": {
          "base_uri": "https://localhost:8080/"
        },
        "id": "EMJ2RH5WJCTp",
        "outputId": "5734d8e3-cd71-43c2-b73a-47ed0ddedfe9"
      },
      "execution_count": 60,
      "outputs": [
        {
          "output_type": "stream",
          "name": "stdout",
          "text": [
            "This is a test file.\n",
            "It has multiple lines.\n"
          ]
        }
      ]
    },
    {
      "cell_type": "markdown",
      "source": [
        "21.Write a Python program that reads a file and prints the number of occurrences of a specific word."
      ],
      "metadata": {
        "id": "gqqSYS-sJLET"
      }
    },
    {
      "cell_type": "code",
      "source": [
        "#code\n",
        "def count_word_occurrences(filepath, word):\n",
        "    \"\"\"\n",
        "    Counts the number of occurrences of a specific word in a file.\n",
        "\n",
        "    Args:\n",
        "        filepath (str): The path to the file.\n",
        "        word (str): The word to count.\n",
        "\n",
        "    Returns:\n",
        "        int: The number of occurrences of the word in the file.\n",
        "    \"\"\"\n",
        "    try:\n",
        "        with open(filepath, 'r') as file:\n",
        "            content = file.read()\n",
        "            words = content.lower().split()\n",
        "            return words.count(word.lower())\n",
        "    except FileNotFoundError:\n",
        "        return f\"Error: File not found at path: {filepath}\"\n",
        "    except Exception as e:\n",
        "         return f\"An error occurred: {e}\"\n",
        "filepath = 'example.txt'\n",
        "word = 'example'\n",
        "with open(filepath, 'w') as f:\n",
        "    f.write(\"This is an example file. It contains the word example multiple times. EXAMPLE example\")\n",
        "count = count_word_occurrences(filepath, word)\n",
        "print(f\"The word '{word}' appears {count} times in the file.\")"
      ],
      "metadata": {
        "colab": {
          "base_uri": "https://localhost:8080/"
        },
        "id": "lJ9BSn3qJGdw",
        "outputId": "c9aea7cf-da83-4310-ade2-fb574203a4c6"
      },
      "execution_count": 61,
      "outputs": [
        {
          "output_type": "stream",
          "name": "stdout",
          "text": [
            "The word 'example' appears 4 times in the file.\n"
          ]
        }
      ]
    },
    {
      "cell_type": "markdown",
      "source": [
        "22.How can you check if a file is empty before attempting to read its contents?"
      ],
      "metadata": {
        "id": "bVmZe9vYJRu8"
      }
    },
    {
      "cell_type": "code",
      "source": [
        "import os\n",
        "\n",
        "def is_file_empty(file_path):\n",
        "    \"\"\"\n",
        "    Checks if a file is empty using os.path.getsize().\n",
        "\n",
        "    Args:\n",
        "        file_path (str): The path to the file.\n",
        "\n",
        "    Returns:\n",
        "        bool: True if the file is empty, False otherwise.\n",
        "    \"\"\"\n",
        "    return os.path.getsize(file_path) == 0\n",
        "\n",
        "\n",
        "file_path = \"my_file.txt\"\n",
        "\n",
        "\n",
        "with open(file_path, \"w\"):\n",
        "    pass\n",
        "\n",
        "if is_file_empty(file_path):\n",
        "    print(f\"The file '{file_path}' is empty.\")\n",
        "else:\n",
        "    print(f\"The file '{file_path}' is not empty.\")\n",
        "\n",
        "\n",
        "with open(file_path, \"w\") as file:\n",
        "    file.write(\"Some content\")\n",
        "\n",
        "if is_file_empty(file_path):\n",
        "    print(f\"The file '{file_path}' is empty.\")\n",
        "else:\n",
        "    print(f\"The file '{file_path}' is not empty.\")#code"
      ],
      "metadata": {
        "colab": {
          "base_uri": "https://localhost:8080/"
        },
        "id": "DiExmNx3JZYh",
        "outputId": "8f1e37f1-e4ae-47ed-868f-a79e4589ae5e"
      },
      "execution_count": 65,
      "outputs": [
        {
          "output_type": "stream",
          "name": "stdout",
          "text": [
            "The file 'my_file.txt' is empty.\n",
            "The file 'my_file.txt' is not empty.\n"
          ]
        }
      ]
    },
    {
      "cell_type": "markdown",
      "source": [
        "23.Write a Python program that writes to a log file when an error occurs during file handling."
      ],
      "metadata": {
        "id": "KwxXYIZoJoxa"
      }
    },
    {
      "cell_type": "code",
      "source": [
        "import logging\n",
        "\n",
        "\n",
        "logging.basicConfig(filename='file_handling_errors.log', level=logging.ERROR,\n",
        "                    format='%(asctime)s - %(levelname)s - %(message)s')\n",
        "\n",
        "def process_file(file_path):\n",
        "    \"\"\"\n",
        "    Opens, reads, and processes a file. Logs any errors encountered.\n",
        "    \"\"\"\n",
        "    try:\n",
        "        with open(file_path, 'r') as file:\n",
        "            content = file.read()\n",
        "\n",
        "            print(f\"File '{file_path}' processed successfully.\")\n",
        "    except FileNotFoundError:\n",
        "        logging.error(f\"File not found: {file_path}\")\n",
        "    except PermissionError:\n",
        "        logging.error(f\"Permission denied: {file_path}\")\n",
        "    except Exception as e:\n",
        "        logging.error(f\"An unexpected error occurred: {e}\")\n",
        "\n",
        "\n",
        "file_path = 'example.txt'\n",
        "process_file(file_path)\n",
        "\n",
        "file_path = '/path/to/nonexistent/file.txt'\n",
        "process_file(file_path)\n",
        "\n",
        "file_path = '/root/protected_file.txt' #code\n",
        "process_file(file_path)"
      ],
      "metadata": {
        "colab": {
          "base_uri": "https://localhost:8080/"
        },
        "id": "xjtePijTJwhG",
        "outputId": "0a13b918-9546-4cab-a164-307d0c854d83"
      },
      "execution_count": 69,
      "outputs": [
        {
          "output_type": "stream",
          "name": "stderr",
          "text": [
            "ERROR:root:File not found: /path/to/nonexistent/file.txt\n",
            "ERROR:root:File not found: /root/protected_file.txt\n"
          ]
        },
        {
          "output_type": "stream",
          "name": "stdout",
          "text": [
            "File 'example.txt' processed successfully.\n"
          ]
        }
      ]
    },
    {
      "cell_type": "code",
      "source": [],
      "metadata": {
        "id": "8WYTZTY5J28e"
      },
      "execution_count": null,
      "outputs": []
    }
  ]
}